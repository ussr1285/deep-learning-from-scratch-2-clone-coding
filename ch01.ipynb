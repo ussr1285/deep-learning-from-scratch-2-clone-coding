{
 "cells": [
  {
   "cell_type": "markdown",
   "id": "a9f8a2de",
   "metadata": {},
   "source": []
  },
  {
   "cell_type": "code",
   "execution_count": null,
   "id": "26543401",
   "metadata": {},
   "outputs": [],
   "source": []
  },
  {
   "cell_type": "markdown",
   "id": "53c87b3a",
   "metadata": {},
   "source": [
    "1.4 show_spiral_dataset.py"
   ]
  },
  {
   "cell_type": "code",
   "execution_count": 3,
   "id": "bcad862d",
   "metadata": {},
   "outputs": [
    {
     "name": "stdout",
     "output_type": "stream",
     "text": [
      "x (300, 2)\n",
      "r (300, 3)\n"
     ]
    }
   ],
   "source": [
    "# import sys\n",
    "# sys.path.append('..') # 부모 디렉터리의 파일을 가져올 수 있도록 설정\n",
    "from dataset import spiral\n",
    "import matplotlib.pyplot as plt\n",
    "\n",
    "x, t = spiral.load_data()\n",
    "print('x', x.shape) # x (300, 2)\n",
    "print('r', t.shape) # r (300, 3)"
   ]
  },
  {
   "cell_type": "markdown",
   "id": "c818c9f9",
   "metadata": {},
   "source": []
  },
  {
   "cell_type": "code",
   "execution_count": 4,
   "id": "7dcd5d90",
   "metadata": {},
   "outputs": [],
   "source": [
    "# import sys\n",
    "# sys.path.append('..')\n",
    "import numpy as np\n",
    "from common.layers import Affine, Sigmoid, SoftmaxWithLoss\n",
    "\n",
    "class TwoLayerNet:\n",
    "    def __init__(self, input_size,  hidden_size, output_size):\n",
    "        I, H, O = input_size, hidden_size, output_size\n",
    "        \n",
    "        # 가중치와 편향 초기화\n",
    "        W1 = 0.01 * np.random.randn(I, H)\n",
    "        b1 = np.zeros(H)\n",
    "        W2 = 0.01 * np.random.randn(H, O)\n",
    "        b2 = np.zeros(0)\n",
    "        \n",
    "        # 계층 생성\n",
    "        self.layers = [\n",
    "            Affine(W1, b1),\n",
    "            Sigmoid(),\n",
    "            Affine(W2, b2)\n",
    "        ]\n",
    "        self.loss_layer = SoftmaxWithLoss()\n",
    "        \n",
    "        # 모든 가중치와 기울기를 리스트에 모은다.\n",
    "        self.params, self.grads = [], []\n",
    "        for layer in self.layers:\n",
    "            self.params += layers.params\n",
    "            self.grads += layers.grads\n",
    "        \n",
    "        def predict(self, x):\n",
    "            for layer in self.layers:\n",
    "                x = layer.forward(x)\n",
    "            return x\n",
    "\n",
    "        def "
   ]
  },
  {
   "cell_type": "code",
   "execution_count": null,
   "id": "e7835b17",
   "metadata": {},
   "outputs": [],
   "source": []
  },
  {
   "cell_type": "code",
   "execution_count": null,
   "id": "6c46a87b",
   "metadata": {},
   "outputs": [],
   "source": []
  }
 ],
 "metadata": {
  "kernelspec": {
   "display_name": "stock32",
   "language": "python",
   "name": "python3"
  },
  "language_info": {
   "codemirror_mode": {
    "name": "ipython",
    "version": 3
   },
   "file_extension": ".py",
   "mimetype": "text/x-python",
   "name": "python",
   "nbconvert_exporter": "python",
   "pygments_lexer": "ipython3",
   "version": "3.8.13 (default, Mar 28 2022, 01:56:06) [MSC v.1916 32 bit (Intel)]"
  },
  "vscode": {
   "interpreter": {
    "hash": "0fe42984a14e76c1a7841982862854a93c491b6668837ddbc1eef04b33744c4a"
   }
  }
 },
 "nbformat": 4,
 "nbformat_minor": 5
}
